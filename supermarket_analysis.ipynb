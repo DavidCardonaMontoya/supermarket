{
 "cells": [
  {
   "cell_type": "code",
   "execution_count": 52,
   "id": "0dfa6447",
   "metadata": {},
   "outputs": [],
   "source": [
    "import pandas as pd\n",
    "import numpy as np\n",
    "import matplotlib.pyplot as plt\n",
    "import seaborn as sns\n",
    "from sklearn.cluster import DBSCAN\n",
    "from sklearn.preprocessing import scale\n",
    "from sklearn.metrics import silhouette_score"
   ]
  },
  {
   "cell_type": "code",
   "execution_count": 7,
   "id": "15d9f891",
   "metadata": {},
   "outputs": [],
   "source": [
    "df = pd.read_csv(\"Stores.csv\")"
   ]
  },
  {
   "cell_type": "code",
   "execution_count": 8,
   "id": "26461ffa",
   "metadata": {},
   "outputs": [
    {
     "data": {
      "text/html": [
       "<div>\n",
       "<style scoped>\n",
       "    .dataframe tbody tr th:only-of-type {\n",
       "        vertical-align: middle;\n",
       "    }\n",
       "\n",
       "    .dataframe tbody tr th {\n",
       "        vertical-align: top;\n",
       "    }\n",
       "\n",
       "    .dataframe thead th {\n",
       "        text-align: right;\n",
       "    }\n",
       "</style>\n",
       "<table border=\"1\" class=\"dataframe\">\n",
       "  <thead>\n",
       "    <tr style=\"text-align: right;\">\n",
       "      <th></th>\n",
       "      <th>Store ID</th>\n",
       "      <th>Store_Area</th>\n",
       "      <th>Items_Available</th>\n",
       "      <th>Daily_Customer_Count</th>\n",
       "      <th>Store_Sales</th>\n",
       "    </tr>\n",
       "  </thead>\n",
       "  <tbody>\n",
       "    <tr>\n",
       "      <th>0</th>\n",
       "      <td>1</td>\n",
       "      <td>1659</td>\n",
       "      <td>1961</td>\n",
       "      <td>530</td>\n",
       "      <td>66490</td>\n",
       "    </tr>\n",
       "    <tr>\n",
       "      <th>1</th>\n",
       "      <td>2</td>\n",
       "      <td>1461</td>\n",
       "      <td>1752</td>\n",
       "      <td>210</td>\n",
       "      <td>39820</td>\n",
       "    </tr>\n",
       "    <tr>\n",
       "      <th>2</th>\n",
       "      <td>3</td>\n",
       "      <td>1340</td>\n",
       "      <td>1609</td>\n",
       "      <td>720</td>\n",
       "      <td>54010</td>\n",
       "    </tr>\n",
       "    <tr>\n",
       "      <th>3</th>\n",
       "      <td>4</td>\n",
       "      <td>1451</td>\n",
       "      <td>1748</td>\n",
       "      <td>620</td>\n",
       "      <td>53730</td>\n",
       "    </tr>\n",
       "    <tr>\n",
       "      <th>4</th>\n",
       "      <td>5</td>\n",
       "      <td>1770</td>\n",
       "      <td>2111</td>\n",
       "      <td>450</td>\n",
       "      <td>46620</td>\n",
       "    </tr>\n",
       "    <tr>\n",
       "      <th>...</th>\n",
       "      <td>...</td>\n",
       "      <td>...</td>\n",
       "      <td>...</td>\n",
       "      <td>...</td>\n",
       "      <td>...</td>\n",
       "    </tr>\n",
       "    <tr>\n",
       "      <th>891</th>\n",
       "      <td>892</td>\n",
       "      <td>1582</td>\n",
       "      <td>1910</td>\n",
       "      <td>1080</td>\n",
       "      <td>66390</td>\n",
       "    </tr>\n",
       "    <tr>\n",
       "      <th>892</th>\n",
       "      <td>893</td>\n",
       "      <td>1387</td>\n",
       "      <td>1663</td>\n",
       "      <td>850</td>\n",
       "      <td>82080</td>\n",
       "    </tr>\n",
       "    <tr>\n",
       "      <th>893</th>\n",
       "      <td>894</td>\n",
       "      <td>1200</td>\n",
       "      <td>1436</td>\n",
       "      <td>1060</td>\n",
       "      <td>76440</td>\n",
       "    </tr>\n",
       "    <tr>\n",
       "      <th>894</th>\n",
       "      <td>895</td>\n",
       "      <td>1299</td>\n",
       "      <td>1560</td>\n",
       "      <td>770</td>\n",
       "      <td>96610</td>\n",
       "    </tr>\n",
       "    <tr>\n",
       "      <th>895</th>\n",
       "      <td>896</td>\n",
       "      <td>1174</td>\n",
       "      <td>1429</td>\n",
       "      <td>1110</td>\n",
       "      <td>54340</td>\n",
       "    </tr>\n",
       "  </tbody>\n",
       "</table>\n",
       "<p>896 rows × 5 columns</p>\n",
       "</div>"
      ],
      "text/plain": [
       "     Store ID   Store_Area  Items_Available  Daily_Customer_Count  Store_Sales\n",
       "0            1        1659             1961                   530        66490\n",
       "1            2        1461             1752                   210        39820\n",
       "2            3        1340             1609                   720        54010\n",
       "3            4        1451             1748                   620        53730\n",
       "4            5        1770             2111                   450        46620\n",
       "..         ...         ...              ...                   ...          ...\n",
       "891        892        1582             1910                  1080        66390\n",
       "892        893        1387             1663                   850        82080\n",
       "893        894        1200             1436                  1060        76440\n",
       "894        895        1299             1560                   770        96610\n",
       "895        896        1174             1429                  1110        54340\n",
       "\n",
       "[896 rows x 5 columns]"
      ]
     },
     "execution_count": 8,
     "metadata": {},
     "output_type": "execute_result"
    }
   ],
   "source": [
    "df"
   ]
  },
  {
   "cell_type": "markdown",
   "id": "e91feb22",
   "metadata": {},
   "source": [
    "# Infografía\n",
    "\n",
    "- **Store ID**: ID de una tienda particular.\n",
    "- **Store_Area**: Área de la tienda en yardas.\n",
    "- **Items_Available**: Número de items disponibles en la tienda.\n",
    "- **Daily_Customer_Count**: Número de clientes que visitaron la tiendas en promedio durante el mes.\n",
    "- **Store_Sales**: Venta en dólares hecha por la tienda."
   ]
  },
  {
   "cell_type": "markdown",
   "id": "60988c89",
   "metadata": {},
   "source": [
    "# Objetivo\n",
    "\n",
    "Establecer consejo(s) para aumentar las ganancias del supermercado."
   ]
  },
  {
   "cell_type": "markdown",
   "id": "76898702",
   "metadata": {},
   "source": [
    "# EDA"
   ]
  },
  {
   "cell_type": "code",
   "execution_count": 4,
   "id": "59939662",
   "metadata": {},
   "outputs": [
    {
     "name": "stdout",
     "output_type": "stream",
     "text": [
      "<class 'pandas.core.frame.DataFrame'>\n",
      "RangeIndex: 896 entries, 0 to 895\n",
      "Data columns (total 5 columns):\n",
      " #   Column                Non-Null Count  Dtype\n",
      "---  ------                --------------  -----\n",
      " 0   Store ID              896 non-null    int64\n",
      " 1   Store_Area            896 non-null    int64\n",
      " 2   Items_Available       896 non-null    int64\n",
      " 3   Daily_Customer_Count  896 non-null    int64\n",
      " 4   Store_Sales           896 non-null    int64\n",
      "dtypes: int64(5)\n",
      "memory usage: 35.1 KB\n"
     ]
    }
   ],
   "source": [
    "df.info()"
   ]
  },
  {
   "cell_type": "code",
   "execution_count": 9,
   "id": "56802640",
   "metadata": {},
   "outputs": [],
   "source": [
    "# Store ID contiene espacio en blanco al final\n",
    "# Se eliminan todos los espacios antes o después en los nombres de columna\n",
    "df.columns = [col.strip() for col in df.columns]"
   ]
  },
  {
   "cell_type": "code",
   "execution_count": 21,
   "id": "8e0f44d6",
   "metadata": {},
   "outputs": [
    {
     "data": {
      "text/html": [
       "<div>\n",
       "<style scoped>\n",
       "    .dataframe tbody tr th:only-of-type {\n",
       "        vertical-align: middle;\n",
       "    }\n",
       "\n",
       "    .dataframe tbody tr th {\n",
       "        vertical-align: top;\n",
       "    }\n",
       "\n",
       "    .dataframe thead th {\n",
       "        text-align: right;\n",
       "    }\n",
       "</style>\n",
       "<table border=\"1\" class=\"dataframe\">\n",
       "  <thead>\n",
       "    <tr style=\"text-align: right;\">\n",
       "      <th></th>\n",
       "      <th>self</th>\n",
       "      <th>other</th>\n",
       "    </tr>\n",
       "  </thead>\n",
       "  <tbody>\n",
       "  </tbody>\n",
       "</table>\n",
       "</div>"
      ],
      "text/plain": [
       "Empty DataFrame\n",
       "Columns: [self, other]\n",
       "Index: []"
      ]
     },
     "execution_count": 21,
     "metadata": {},
     "output_type": "execute_result"
    }
   ],
   "source": [
    "# Verificando que la columna Store ID se puede usar como índice\n",
    "df['Store ID'].compare(pd.Series(np.arange(1,897,1)))"
   ]
  },
  {
   "cell_type": "code",
   "execution_count": 22,
   "id": "6d52c1ad",
   "metadata": {},
   "outputs": [],
   "source": [
    "df.set_index('Store ID', inplace=True)"
   ]
  },
  {
   "cell_type": "code",
   "execution_count": 25,
   "id": "28c04e68",
   "metadata": {},
   "outputs": [],
   "source": [
    "# Store_Area, Store_Sales son continuas\n",
    "df[['Store_Area', 'Store_Sales']] = df[['Store_Area', 'Store_Sales']].astype('float')"
   ]
  },
  {
   "cell_type": "code",
   "execution_count": 28,
   "id": "9a5e57f6",
   "metadata": {},
   "outputs": [],
   "source": [
    "# Yardas^2 a metros^2\n",
    "df['Store_Area'] = df['Store_Area']*0.9144**2 "
   ]
  },
  {
   "cell_type": "code",
   "execution_count": 29,
   "id": "4089f4f1",
   "metadata": {},
   "outputs": [
    {
     "data": {
      "text/html": [
       "<div>\n",
       "<style scoped>\n",
       "    .dataframe tbody tr th:only-of-type {\n",
       "        vertical-align: middle;\n",
       "    }\n",
       "\n",
       "    .dataframe tbody tr th {\n",
       "        vertical-align: top;\n",
       "    }\n",
       "\n",
       "    .dataframe thead th {\n",
       "        text-align: right;\n",
       "    }\n",
       "</style>\n",
       "<table border=\"1\" class=\"dataframe\">\n",
       "  <thead>\n",
       "    <tr style=\"text-align: right;\">\n",
       "      <th></th>\n",
       "      <th>Store_Area</th>\n",
       "      <th>Items_Available</th>\n",
       "      <th>Daily_Customer_Count</th>\n",
       "      <th>Store_Sales</th>\n",
       "    </tr>\n",
       "  </thead>\n",
       "  <tbody>\n",
       "    <tr>\n",
       "      <th>count</th>\n",
       "      <td>896.000000</td>\n",
       "      <td>896.000000</td>\n",
       "      <td>896.000000</td>\n",
       "      <td>896.000000</td>\n",
       "    </tr>\n",
       "    <tr>\n",
       "      <th>mean</th>\n",
       "      <td>1241.991606</td>\n",
       "      <td>1782.035714</td>\n",
       "      <td>786.350446</td>\n",
       "      <td>59351.305804</td>\n",
       "    </tr>\n",
       "    <tr>\n",
       "      <th>std</th>\n",
       "      <td>209.230011</td>\n",
       "      <td>299.872053</td>\n",
       "      <td>265.389281</td>\n",
       "      <td>17190.741895</td>\n",
       "    </tr>\n",
       "    <tr>\n",
       "      <th>min</th>\n",
       "      <td>647.998704</td>\n",
       "      <td>932.000000</td>\n",
       "      <td>10.000000</td>\n",
       "      <td>14920.000000</td>\n",
       "    </tr>\n",
       "    <tr>\n",
       "      <th>25%</th>\n",
       "      <td>1100.970701</td>\n",
       "      <td>1575.500000</td>\n",
       "      <td>600.000000</td>\n",
       "      <td>46530.000000</td>\n",
       "    </tr>\n",
       "    <tr>\n",
       "      <th>50%</th>\n",
       "      <td>1234.960111</td>\n",
       "      <td>1773.500000</td>\n",
       "      <td>780.000000</td>\n",
       "      <td>58605.000000</td>\n",
       "    </tr>\n",
       "    <tr>\n",
       "      <th>75%</th>\n",
       "      <td>1382.536590</td>\n",
       "      <td>1982.750000</td>\n",
       "      <td>970.000000</td>\n",
       "      <td>71872.500000</td>\n",
       "    </tr>\n",
       "    <tr>\n",
       "      <th>max</th>\n",
       "      <td>1863.727885</td>\n",
       "      <td>2667.000000</td>\n",
       "      <td>1560.000000</td>\n",
       "      <td>116320.000000</td>\n",
       "    </tr>\n",
       "  </tbody>\n",
       "</table>\n",
       "</div>"
      ],
      "text/plain": [
       "        Store_Area  Items_Available  Daily_Customer_Count    Store_Sales\n",
       "count   896.000000       896.000000            896.000000     896.000000\n",
       "mean   1241.991606      1782.035714            786.350446   59351.305804\n",
       "std     209.230011       299.872053            265.389281   17190.741895\n",
       "min     647.998704       932.000000             10.000000   14920.000000\n",
       "25%    1100.970701      1575.500000            600.000000   46530.000000\n",
       "50%    1234.960111      1773.500000            780.000000   58605.000000\n",
       "75%    1382.536590      1982.750000            970.000000   71872.500000\n",
       "max    1863.727885      2667.000000           1560.000000  116320.000000"
      ]
     },
     "execution_count": 29,
     "metadata": {},
     "output_type": "execute_result"
    }
   ],
   "source": [
    "df.describe()"
   ]
  },
  {
   "cell_type": "code",
   "execution_count": 31,
   "id": "7f36f8a9",
   "metadata": {},
   "outputs": [
    {
     "data": {
      "text/plain": [
       "<AxesSubplot:xlabel='Store_Area', ylabel='Count'>"
      ]
     },
     "execution_count": 31,
     "metadata": {},
     "output_type": "execute_result"
    },
    {
     "data": {
      "image/png": "[encoded data removed]",
      "text/plain": [
       "<Figure size 432x288 with 1 Axes>"
      ]
     },
     "metadata": {
      "needs_background": "light"
     },
     "output_type": "display_data"
    }
   ],
   "source": [
    "sns.histplot(x='Store_Area', data=df,  element='step')"
   ]
  },
  {
   "cell_type": "code",
   "execution_count": 32,
   "id": "d5c33ce0",
   "metadata": {},
   "outputs": [
    {
     "data": {
      "text/plain": [
       "<AxesSubplot:xlabel='Store_Sales', ylabel='Count'>"
      ]
     },
     "execution_count": 32,
     "metadata": {},
     "output_type": "execute_result"
    },
    {
     "data": {
      "image/png": "[encoded data removed]",
      "text/plain": [
       "<Figure size 432x288 with 1 Axes>"
      ]
     },
     "metadata": {
      "needs_background": "light"
     },
     "output_type": "display_data"
    }
   ],
   "source": [
    "sns.histplot(x='Store_Sales', data=df,  element='step')"
   ]
  },
  {
   "cell_type": "code",
   "execution_count": 40,
   "id": "0c0b0599",
   "metadata": {},
   "outputs": [
    {
     "data": {
      "text/plain": [
       "<AxesSubplot:xlabel='Items_Available', ylabel='Count'>"
      ]
     },
     "execution_count": 40,
     "metadata": {},
     "output_type": "execute_result"
    },
    {
     "data": {
      "image/png": "[encoded data removed]",
      "text/plain": [
       "<Figure size 432x288 with 1 Axes>"
      ]
     },
     "metadata": {
      "needs_background": "light"
     },
     "output_type": "display_data"
    }
   ],
   "source": [
    "sns.histplot(x='Items_Available', data=df, binwidth=50)"
   ]
  },
  {
   "cell_type": "code",
   "execution_count": 41,
   "id": "d5175e36",
   "metadata": {},
   "outputs": [
    {
     "data": {
      "text/plain": [
       "<AxesSubplot:xlabel='Daily_Customer_Count', ylabel='Count'>"
      ]
     },
     "execution_count": 41,
     "metadata": {},
     "output_type": "execute_result"
    },
    {
     "data": {
      "image/png": "[encoded data removed]",
      "text/plain": [
       "<Figure size 432x288 with 1 Axes>"
      ]
     },
     "metadata": {
      "needs_background": "light"
     },
     "output_type": "display_data"
    }
   ],
   "source": [
    "sns.histplot(x='Daily_Customer_Count', data=df, binwidth=50)"
   ]
  },
  {
   "cell_type": "code",
   "execution_count": 45,
   "id": "ed79590a",
   "metadata": {},
   "outputs": [
    {
     "data": {
      "text/html": [
       "<div>\n",
       "<style scoped>\n",
       "    .dataframe tbody tr th:only-of-type {\n",
       "        vertical-align: middle;\n",
       "    }\n",
       "\n",
       "    .dataframe tbody tr th {\n",
       "        vertical-align: top;\n",
       "    }\n",
       "\n",
       "    .dataframe thead th {\n",
       "        text-align: right;\n",
       "    }\n",
       "</style>\n",
       "<table border=\"1\" class=\"dataframe\">\n",
       "  <thead>\n",
       "    <tr style=\"text-align: right;\">\n",
       "      <th></th>\n",
       "      <th>Store_Area</th>\n",
       "      <th>Items_Available</th>\n",
       "      <th>Daily_Customer_Count</th>\n",
       "      <th>Store_Sales</th>\n",
       "    </tr>\n",
       "  </thead>\n",
       "  <tbody>\n",
       "    <tr>\n",
       "      <th>Store_Area</th>\n",
       "      <td>1.000000</td>\n",
       "      <td>0.998891</td>\n",
       "      <td>-0.041423</td>\n",
       "      <td>0.097474</td>\n",
       "    </tr>\n",
       "    <tr>\n",
       "      <th>Items_Available</th>\n",
       "      <td>0.998891</td>\n",
       "      <td>1.000000</td>\n",
       "      <td>-0.040978</td>\n",
       "      <td>0.098849</td>\n",
       "    </tr>\n",
       "    <tr>\n",
       "      <th>Daily_Customer_Count</th>\n",
       "      <td>-0.041423</td>\n",
       "      <td>-0.040978</td>\n",
       "      <td>1.000000</td>\n",
       "      <td>0.008629</td>\n",
       "    </tr>\n",
       "    <tr>\n",
       "      <th>Store_Sales</th>\n",
       "      <td>0.097474</td>\n",
       "      <td>0.098849</td>\n",
       "      <td>0.008629</td>\n",
       "      <td>1.000000</td>\n",
       "    </tr>\n",
       "  </tbody>\n",
       "</table>\n",
       "</div>"
      ],
      "text/plain": [
       "                      Store_Area  Items_Available  Daily_Customer_Count  \\\n",
       "Store_Area              1.000000         0.998891             -0.041423   \n",
       "Items_Available         0.998891         1.000000             -0.040978   \n",
       "Daily_Customer_Count   -0.041423        -0.040978              1.000000   \n",
       "Store_Sales             0.097474         0.098849              0.008629   \n",
       "\n",
       "                      Store_Sales  \n",
       "Store_Area               0.097474  \n",
       "Items_Available          0.098849  \n",
       "Daily_Customer_Count     0.008629  \n",
       "Store_Sales              1.000000  "
      ]
     },
     "execution_count": 45,
     "metadata": {},
     "output_type": "execute_result"
    }
   ],
   "source": [
    "df.corr()"
   ]
  },
  {
   "cell_type": "markdown",
   "id": "b16ac08f",
   "metadata": {},
   "source": [
    "No es sorprendente la fuerte relación entre el área de la tienda y el número de items. La idea en una tienda es ofrecer tanto como se pueda, y ese tanto depende de la visibilidad de los productos.\n",
    "\n",
    "Surge una pregunta que no sé si sea posible aclarar con la información disponible: ¿Son el conteo de productos todos items diferentes?\n",
    "\n",
    "La relación entre la cantidad promedio de clientes y las ventas parece difusa. Tal vez sea importante encaminar un estudio de clustering para ver si en agrupamientos más finos se descubren patrones más poderosos.\n",
    "\n",
    "Es de notarse que entre más clientes menos items disponibles habrá.\n",
    "\n",
    "No resulta intuitivo que entre más clientes menor sea el área de la tienda. Esto merece un estudio más profundo."
   ]
  },
  {
   "cell_type": "code",
   "execution_count": 53,
   "id": "d59c30ce",
   "metadata": {},
   "outputs": [],
   "source": [
    "# Escalado de datos\n",
    "X = df.to_numpy()\n",
    "X_scaled = scale(X)"
   ]
  },
  {
   "cell_type": "code",
   "execution_count": 76,
   "id": "d57ca143",
   "metadata": {},
   "outputs": [
    {
     "data": {
      "text/plain": [
       "DBSCAN(min_samples=7)"
      ]
     },
     "execution_count": 76,
     "metadata": {},
     "output_type": "execute_result"
    }
   ],
   "source": [
    "# Modelo\n",
    "dbscan = DBSCAN(\n",
    "    eps = 0.5,\n",
    "    min_samples = 7,\n",
    "    metric = 'euclidean'\n",
    ")\n",
    "\n",
    "dbscan.fit(X=X_scaled)"
   ]
  },
  {
   "cell_type": "code",
   "execution_count": 77,
   "id": "202b8538",
   "metadata": {},
   "outputs": [],
   "source": [
    "labels = dbscan.labels_"
   ]
  },
  {
   "cell_type": "code",
   "execution_count": 78,
   "id": "79bdcd25",
   "metadata": {},
   "outputs": [],
   "source": [
    "df['cluster']= labels"
   ]
  },
  {
   "cell_type": "code",
   "execution_count": 79,
   "id": "9befb653",
   "metadata": {},
   "outputs": [
    {
     "data": {
      "text/plain": [
       " 0    574\n",
       "-1    292\n",
       " 2     11\n",
       " 3     10\n",
       " 1      9\n",
       "Name: cluster, dtype: int64"
      ]
     },
     "execution_count": 79,
     "metadata": {},
     "output_type": "execute_result"
    }
   ],
   "source": [
    "df['cluster'].value_counts()"
   ]
  },
  {
   "cell_type": "code",
   "execution_count": 82,
   "id": "c061dc7f",
   "metadata": {},
   "outputs": [
    {
     "data": {
      "text/html": [
       "<div>\n",
       "<style scoped>\n",
       "    .dataframe tbody tr th:only-of-type {\n",
       "        vertical-align: middle;\n",
       "    }\n",
       "\n",
       "    .dataframe tbody tr th {\n",
       "        vertical-align: top;\n",
       "    }\n",
       "\n",
       "    .dataframe thead th {\n",
       "        text-align: right;\n",
       "    }\n",
       "</style>\n",
       "<table border=\"1\" class=\"dataframe\">\n",
       "  <thead>\n",
       "    <tr style=\"text-align: right;\">\n",
       "      <th></th>\n",
       "      <th>Store_Area</th>\n",
       "      <th>Items_Available</th>\n",
       "      <th>Daily_Customer_Count</th>\n",
       "      <th>Store_Sales</th>\n",
       "      <th>cluster</th>\n",
       "    </tr>\n",
       "  </thead>\n",
       "  <tbody>\n",
       "    <tr>\n",
       "      <th>Store_Area</th>\n",
       "      <td>1.000000</td>\n",
       "      <td>0.997858</td>\n",
       "      <td>-0.051254</td>\n",
       "      <td>0.128532</td>\n",
       "      <td>-0.029027</td>\n",
       "    </tr>\n",
       "    <tr>\n",
       "      <th>Items_Available</th>\n",
       "      <td>0.997858</td>\n",
       "      <td>1.000000</td>\n",
       "      <td>-0.050518</td>\n",
       "      <td>0.130466</td>\n",
       "      <td>-0.030958</td>\n",
       "    </tr>\n",
       "    <tr>\n",
       "      <th>Daily_Customer_Count</th>\n",
       "      <td>-0.051254</td>\n",
       "      <td>-0.050518</td>\n",
       "      <td>1.000000</td>\n",
       "      <td>0.006489</td>\n",
       "      <td>0.327227</td>\n",
       "    </tr>\n",
       "    <tr>\n",
       "      <th>Store_Sales</th>\n",
       "      <td>0.128532</td>\n",
       "      <td>0.130466</td>\n",
       "      <td>0.006489</td>\n",
       "      <td>1.000000</td>\n",
       "      <td>-0.163597</td>\n",
       "    </tr>\n",
       "    <tr>\n",
       "      <th>cluster</th>\n",
       "      <td>-0.029027</td>\n",
       "      <td>-0.030958</td>\n",
       "      <td>0.327227</td>\n",
       "      <td>-0.163597</td>\n",
       "      <td>1.000000</td>\n",
       "    </tr>\n",
       "  </tbody>\n",
       "</table>\n",
       "</div>"
      ],
      "text/plain": [
       "                      Store_Area  Items_Available  Daily_Customer_Count  \\\n",
       "Store_Area              1.000000         0.997858             -0.051254   \n",
       "Items_Available         0.997858         1.000000             -0.050518   \n",
       "Daily_Customer_Count   -0.051254        -0.050518              1.000000   \n",
       "Store_Sales             0.128532         0.130466              0.006489   \n",
       "cluster                -0.029027        -0.030958              0.327227   \n",
       "\n",
       "                      Store_Sales   cluster  \n",
       "Store_Area               0.128532 -0.029027  \n",
       "Items_Available          0.130466 -0.030958  \n",
       "Daily_Customer_Count     0.006489  0.327227  \n",
       "Store_Sales              1.000000 -0.163597  \n",
       "cluster                 -0.163597  1.000000  "
      ]
     },
     "execution_count": 82,
     "metadata": {},
     "output_type": "execute_result"
    }
   ],
   "source": [
    "df[df['cluster']!=-1].corr()"
   ]
  },
  {
   "cell_type": "code",
   "execution_count": 81,
   "id": "0127351f",
   "metadata": {},
   "outputs": [
    {
     "data": {
      "image/png": "[encoded data removed]",
      "text/plain": [
       "<Figure size 324x324 with 1 Axes>"
      ]
     },
     "metadata": {
      "needs_background": "light"
     },
     "output_type": "display_data"
    }
   ],
   "source": [
    "# Clasificación\n",
    "# ==============================================================================\n",
    "labels = dbscan.labels_\n",
    "\n",
    "fig, ax = plt.subplots(1, 1, figsize=(4.5, 4.5))\n",
    "\n",
    "ax.scatter(\n",
    "    x = X[:, 0],\n",
    "    y = X[:, -1], \n",
    "    c = labels,\n",
    "    marker    = 'o',\n",
    "    edgecolor = 'black'\n",
    ")\n",
    "\n",
    "# Los outliers se identifican con el label -1\n",
    "ax.scatter(\n",
    "    x = X[labels == -1, 0],\n",
    "    y = X[labels == -1, 1], \n",
    "    c = 'red',\n",
    "    marker    = 'o',\n",
    "    edgecolor = 'black',\n",
    "    label = 'outliers'\n",
    ")\n",
    "\n",
    "ax.legend()\n",
    "ax.set_title('Clusterings generados por DBSCAN');"
   ]
  },
  {
   "cell_type": "code",
   "execution_count": 83,
   "id": "6e6110fd",
   "metadata": {},
   "outputs": [],
   "source": [
    "df = df[df['cluster']!=-1]"
   ]
  },
  {
   "cell_type": "code",
   "execution_count": 84,
   "id": "278561df",
   "metadata": {},
   "outputs": [
    {
     "data": {
      "text/html": [
       "<div>\n",
       "<style scoped>\n",
       "    .dataframe tbody tr th:only-of-type {\n",
       "        vertical-align: middle;\n",
       "    }\n",
       "\n",
       "    .dataframe tbody tr th {\n",
       "        vertical-align: top;\n",
       "    }\n",
       "\n",
       "    .dataframe thead th {\n",
       "        text-align: right;\n",
       "    }\n",
       "</style>\n",
       "<table border=\"1\" class=\"dataframe\">\n",
       "  <thead>\n",
       "    <tr style=\"text-align: right;\">\n",
       "      <th></th>\n",
       "      <th>Store_Area</th>\n",
       "      <th>Items_Available</th>\n",
       "      <th>Daily_Customer_Count</th>\n",
       "      <th>Store_Sales</th>\n",
       "      <th>cluster</th>\n",
       "    </tr>\n",
       "  </thead>\n",
       "  <tbody>\n",
       "    <tr>\n",
       "      <th>Store_Area</th>\n",
       "      <td>1.000000</td>\n",
       "      <td>0.997858</td>\n",
       "      <td>-0.051254</td>\n",
       "      <td>0.128532</td>\n",
       "      <td>-0.029027</td>\n",
       "    </tr>\n",
       "    <tr>\n",
       "      <th>Items_Available</th>\n",
       "      <td>0.997858</td>\n",
       "      <td>1.000000</td>\n",
       "      <td>-0.050518</td>\n",
       "      <td>0.130466</td>\n",
       "      <td>-0.030958</td>\n",
       "    </tr>\n",
       "    <tr>\n",
       "      <th>Daily_Customer_Count</th>\n",
       "      <td>-0.051254</td>\n",
       "      <td>-0.050518</td>\n",
       "      <td>1.000000</td>\n",
       "      <td>0.006489</td>\n",
       "      <td>0.327227</td>\n",
       "    </tr>\n",
       "    <tr>\n",
       "      <th>Store_Sales</th>\n",
       "      <td>0.128532</td>\n",
       "      <td>0.130466</td>\n",
       "      <td>0.006489</td>\n",
       "      <td>1.000000</td>\n",
       "      <td>-0.163597</td>\n",
       "    </tr>\n",
       "    <tr>\n",
       "      <th>cluster</th>\n",
       "      <td>-0.029027</td>\n",
       "      <td>-0.030958</td>\n",
       "      <td>0.327227</td>\n",
       "      <td>-0.163597</td>\n",
       "      <td>1.000000</td>\n",
       "    </tr>\n",
       "  </tbody>\n",
       "</table>\n",
       "</div>"
      ],
      "text/plain": [
       "                      Store_Area  Items_Available  Daily_Customer_Count  \\\n",
       "Store_Area              1.000000         0.997858             -0.051254   \n",
       "Items_Available         0.997858         1.000000             -0.050518   \n",
       "Daily_Customer_Count   -0.051254        -0.050518              1.000000   \n",
       "Store_Sales             0.128532         0.130466              0.006489   \n",
       "cluster                -0.029027        -0.030958              0.327227   \n",
       "\n",
       "                      Store_Sales   cluster  \n",
       "Store_Area               0.128532 -0.029027  \n",
       "Items_Available          0.130466 -0.030958  \n",
       "Daily_Customer_Count     0.006489  0.327227  \n",
       "Store_Sales              1.000000 -0.163597  \n",
       "cluster                 -0.163597  1.000000  "
      ]
     },
     "execution_count": 84,
     "metadata": {},
     "output_type": "execute_result"
    }
   ],
   "source": [
    "df.corr()"
   ]
  },
  {
   "cell_type": "code",
   "execution_count": 85,
   "id": "f65f1009",
   "metadata": {},
   "outputs": [
    {
     "data": {
      "text/plain": [
       "0    574\n",
       "2     11\n",
       "3     10\n",
       "1      9\n",
       "Name: cluster, dtype: int64"
      ]
     },
     "execution_count": 85,
     "metadata": {},
     "output_type": "execute_result"
    }
   ],
   "source": [
    "df['cluster'].value_counts()"
   ]
  },
  {
   "cell_type": "markdown",
   "id": "5fd636ae",
   "metadata": {},
   "source": [
    "- ¿Qué características tienen las tiendas que venden más? Esta puede ser una línea de investigación interesante. Si se logran identificar esas cosas que hace que las tiendas imiten a las mejores tiendas en ventas, se podrían dar ciertas recomendaciones.\n",
    "- También se puede construir un modelo predictivo para las ventas de la tienda. Serían a lo sumo sólo 3 variables predictoras. Se podría construir el modelo predictivo y luego optimizar en el espacio de búsqueda. Una vez encontradas regiones de óptimos, "
   ]
  }
 ],
 "metadata": {
  "kernelspec": {
   "display_name": "Python 3 (ipykernel)",
   "language": "python",
   "name": "python3"
  },
  "language_info": {
   "codemirror_mode": {
    "name": "ipython",
    "version": 3
   },
   "file_extension": ".py",
   "mimetype": "text/x-python",
   "name": "python",
   "nbconvert_exporter": "python",
   "pygments_lexer": "ipython3",
   "version": "3.9.5"
  }
 },
 "nbformat": 4,
 "nbformat_minor": 5
}
